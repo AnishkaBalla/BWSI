{
 "cells": [
  {
   "cell_type": "markdown",
   "metadata": {},
   "source": [
    "# Software Development: Errors, Exceptions, and Testing"
   ]
  },
  {
   "cell_type": "markdown",
   "metadata": {},
   "source": [
    "Please complete this assignment with your small group. Discussion is encouraged and a completed version is due before next class."
   ]
  },
  {
   "cell_type": "markdown",
   "metadata": {},
   "source": [
    "## Type Hinting\n",
    "\n",
    "In this week's lecture, we talked about **type hinting**, which is a type of documentation we can add to explain data types in our code. \n",
    "\n",
    "In type hinting syntax, we can include an \"or\" operator. This tells us that a function will return one type **or** another type. \n",
    "\n",
    "Below is an example of a function, `plant_growth_checker`, which checks if a plant is dead or alive, and then returns the height of a live plant, or returns a message that the plant has died. Notice the type hinting in the function defintion: we will either get a `float` or a `str` from this function."
   ]
  },
  {
   "cell_type": "code",
   "execution_count": 2,
   "metadata": {},
   "outputs": [
    {
     "ename": "AssertionError",
     "evalue": "",
     "output_type": "error",
     "traceback": [
      "\u001b[1;31m---------------------------------------------------------------------------\u001b[0m",
      "\u001b[1;31mAssertionError\u001b[0m                            Traceback (most recent call last)",
      "Cell \u001b[1;32mIn[2], line 3\u001b[0m\n\u001b[0;32m      1\u001b[0m \u001b[38;5;66;03m# check if the user's favorite programming language is Python\u001b[39;00m\n\u001b[0;32m      2\u001b[0m favorite_language \u001b[38;5;241m=\u001b[39m \u001b[38;5;124m\"\u001b[39m\u001b[38;5;124mC++\u001b[39m\u001b[38;5;124m\"\u001b[39m\n\u001b[1;32m----> 3\u001b[0m \u001b[38;5;28;01massert\u001b[39;00m favorite_language \u001b[38;5;241m==\u001b[39m \u001b[38;5;124m\"\u001b[39m\u001b[38;5;124mPython\u001b[39m\u001b[38;5;124m\"\u001b[39m\n",
      "\u001b[1;31mAssertionError\u001b[0m: "
     ]
    }
   ],
   "source": [
    "# check if the user's favorite programming language is Python\n",
    "favorite_language = \"C++\"\n",
    "assert favorite_language == \"Python\""
   ]
  },
  {
   "cell_type": "code",
   "execution_count": null,
   "metadata": {},
   "outputs": [],
   "source": [
    "def plant_growth_checker(plant_height: float, plant_alive: bool) -> float | str:\n",
    "    if plant_alive:\n",
    "        return plant_height\n",
    "    else:\n",
    "        return \"This plant has died :(\"\n",
    "    \n",
    "print(type(plant_growth_checker(2.5, True)))\n",
    "print(type(plant_growth_checker(3.1, False)))\n"
   ]
  },
  {
   "cell_type": "markdown",
   "metadata": {},
   "source": [
    "Now let's try implementing type hinting into a prewritten class. The following class represents a car for sale. `CarSale` has attributes to represent the year, make and model of the car, the name of the person who sold the car, the price that the car is for sale/sold for, and whether or not the car has been sold. "
   ]
  },
  {
   "cell_type": "markdown",
   "metadata": {},
   "source": [
    "# Q.1: Add type hinting to the following `CarRecord` class. "
   ]
  },
  {
   "cell_type": "code",
   "execution_count": null,
   "metadata": {},
   "outputs": [],
   "source": [
    "class CarRecord:\n",
    "    \"\"\"Class to record a car for sale.\"\"\"\n",
    "\n",
    "    def __init__(self, make : str, model : str, year : int, salesperson : str, price : float | int, is_sold : bool):\n",
    "        \"\"\"Init instance attributes\"\"\"\n",
    "        self.make = make\n",
    "        self.model = model\n",
    "        self.year = year\n",
    "        self.salesperson = salesperson\n",
    "        self.price = price\n",
    "        self.is_sold = is_sold\n",
    "\n",
    "    def get_car_info(self) -> str:\n",
    "        \"\"\"Return a descritiption of the car sold.\"\"\"\n",
    "        return f\"{self.year} {self.make} {self.model}\"\n",
    "\n",
    "    def get_salesperson(self) -> str|None:\n",
    "        \"\"\"Return the name of the person who sold the car.\n",
    "           If the car is not yet sold, None will be returned.\"\"\"\n",
    "        if self.is_sold:\n",
    "            return self.salesperson\n",
    "        return None\n",
    "    \n",
    "    def get_inflated_price(self, inflation_rate) -> float:\n",
    "        \"\"\"Return the price, adjusted for inflation.\"\"\"\n",
    "        inflated_price = self.price * inflation_rate\n",
    "        return inflated_price\n"
   ]
  },
  {
   "cell_type": "markdown",
   "metadata": {},
   "source": [
    "## Testing\n",
    "\n",
    "As we heard in lecture, testing is an incredibly important part of coding and software development. It is necessary to avoid bugs in our code because bugs can cause all sorts of unpredictable problems. "
   ]
  },
  {
   "cell_type": "markdown",
   "metadata": {},
   "source": [
    "# Q.2: Describe a situation where inadequate testing could cause issues.  "
   ]
  },
  {
   "cell_type": "markdown",
   "metadata": {},
   "source": [
    "### A.2: YOUR ANSWER HERE"
   ]
  },
  {
   "cell_type": "markdown",
   "metadata": {},
   "source": [
    "Inadequate testing of a banking application could lead to a situation where incorrect interest calculations are applied. This could result in financial losses for the customers of the bank, as well as legal issues for the bank itself."
   ]
  },
  {
   "cell_type": "markdown",
   "metadata": {},
   "source": [
    "In Python, there is a class of methods to aid in testing: the `unittest` module is a built-in tool that helps you check if your code is working correctly by letting you write and run tests. Think of it like creating a checklist for your functions—each test makes sure a part of your program gives the right answer. If something goes wrong (like a function returns the wrong result), `unittest` will show you which test failed so you can fix it. It helps catch bugs early and makes it easier to keep your code working as you make changes.\n",
    "\n",
    "However, we can achieve the same goal using print statements to verify that our functions and methods return the expected values. Let's try writing some tests for the following class, `Rectangle`:"
   ]
  },
  {
   "cell_type": "code",
   "execution_count": 3,
   "metadata": {},
   "outputs": [],
   "source": [
    "class Rectangle:\n",
    "    \"\"\"Class representing a rectangle.\"\"\"\n",
    "\n",
    "    def __init__(self, width : int, height : int):\n",
    "        \"\"\"Init instance attributes.\"\"\"\n",
    "        self.width = width\n",
    "        self.height = height\n",
    "\n",
    "    def get_area(self) -> int:\n",
    "        \"\"\"Calculate the area.\"\"\"\n",
    "        return self.width * self.height\n",
    "\n",
    "    def set_width(self, new_width : int) -> None:\n",
    "        \"\"\"Set the width attribute.\"\"\"\n",
    "        self.width = new_width\n",
    "\n",
    "    def set_height(self, new_height : int) -> None:\n",
    "        \"\"\"Set the height attribute.\"\"\"\n",
    "        self.height = new_height"
   ]
  },
  {
   "cell_type": "markdown",
   "metadata": {},
   "source": [
    "# Q.3: Please write a set of tests for each of the defined methods in `Rectangle`.\n",
    "\n",
    "Write at least one test for each of the methods from the `Rectangle` class. "
   ]
  },
  {
   "cell_type": "code",
   "execution_count": 7,
   "metadata": {},
   "outputs": [
    {
     "name": "stdout",
     "output_type": "stream",
     "text": [
      "12\n",
      "30\n",
      "None\n",
      "None\n",
      "None\n",
      "None\n"
     ]
    }
   ],
   "source": [
    "# YOUR ANSWER HERE\n",
    "\n",
    "# Declare some Rectangles for testing.\n",
    "rect1 = Rectangle(3, 4)\n",
    "rect2 = Rectangle(5,6)\n",
    "# Test the get_area() method\n",
    "print(rect1.get_area())\n",
    "print(rect2.get_area())\n",
    "# Test the set_width() method\n",
    "print(rect1.set_width(5))\n",
    "print(rect2.set_width(7))\n",
    "# Test the set_height() method\n",
    "print(rect1.set_height(2))\n",
    "print(rect2.set_height(9))\n",
    "# Test the get_area() method now that we've made changes"
   ]
  },
  {
   "cell_type": "markdown",
   "metadata": {},
   "source": [
    "## Putting it all together\n",
    "\n",
    "Now that we've seen how we can use type hinting and testing to help us code, let's try making our own small class with these tools.\n",
    "\n",
    "Here is the description of our class, **Flower**:\n",
    "\n",
    "- Attributes:\n",
    "\n",
    "    - `type` (e.g., \"Rose\", \"Tulip\")\n",
    "\n",
    "    - `age` (in days, as an integer)\n",
    "\n",
    "- Methods:\n",
    "\n",
    "    - `water()` – prints a message like \"Watered the flower.\"\n",
    "\n",
    "    - `is_fresh()` – returns True if age < 7\n",
    "\n",
    "    - `describe()` – returns a string describing the flower, e.g., \"This is a 3-day-old Rose.\"\n",
    "    \n",
    "\n",
    "Once you have your first draft of your class, write at least one test for each method and ensure that your class is working as you intended."
   ]
  },
  {
   "cell_type": "markdown",
   "metadata": {},
   "source": [
    "# Q.4: Write the `Flower` class with testing"
   ]
  },
  {
   "cell_type": "code",
   "execution_count": 10,
   "metadata": {},
   "outputs": [],
   "source": [
    "# Flower class:\n",
    "\n",
    "class Flower:\n",
    "    \"\"\"Class representing a flower\"\"\"\n",
    "\n",
    "    def __init__(self, type : str, age : int):\n",
    "        \"\"\"Init instance attributes.\"\"\"\n",
    "        self.type = type\n",
    "        self.age = age\n",
    "\n",
    "    def water(self) -> str:\n",
    "        \"\"\"Prints the message that the flower is watered\"\"\"\n",
    "        return \"Watered the flower.\"\n",
    "\n",
    "    def is_fresh(self) -> bool:\n",
    "        \"\"\"Returns if the flower is fresh or not\"\"\"\n",
    "        if self.age<7:\n",
    "            return True\n",
    "        else:\n",
    "            return False\n",
    "\n",
    "    def describe(self) -> str:\n",
    "        \"\"\"Describe the flower\"\"\"\n",
    "        return f\"This is a {self.age}-day-old {self.type}.\"\n",
    "\n",
    "    "
   ]
  },
  {
   "cell_type": "code",
   "execution_count": 11,
   "metadata": {},
   "outputs": [
    {
     "name": "stdout",
     "output_type": "stream",
     "text": [
      "Watered the flower.\n",
      "True\n",
      "This is a 4-day-old Forget-me-not.\n"
     ]
    }
   ],
   "source": [
    "# Flower class testing:\n",
    "forgetmenot1 = Flower(\"Forget-me-not\", 4)\n",
    "print(forgetmenot1.water())\n",
    "print(forgetmenot1.is_fresh())\n",
    "print(forgetmenot1.describe())"
   ]
  }
 ],
 "metadata": {
  "kernelspec": {
   "display_name": "base",
   "language": "python",
   "name": "python3"
  },
  "language_info": {
   "codemirror_mode": {
    "name": "ipython",
    "version": 3
   },
   "file_extension": ".py",
   "mimetype": "text/x-python",
   "name": "python",
   "nbconvert_exporter": "python",
   "pygments_lexer": "ipython3",
   "version": "3.12.7"
  }
 },
 "nbformat": 4,
 "nbformat_minor": 2
}
