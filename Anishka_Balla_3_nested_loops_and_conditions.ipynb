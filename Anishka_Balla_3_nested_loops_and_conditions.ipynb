{
 "cells": [
  {
   "cell_type": "markdown",
   "metadata": {
    "vscode": {
     "languageId": "plaintext"
    }
   },
   "source": [
    "# Loops and Conditions: Nested Loops and Conditions"
   ]
  },
  {
   "cell_type": "markdown",
   "metadata": {},
   "source": [
    "Please follow the instructions and uncomment the skeleton code as necessary.\n",
    "\n",
    "This assignment is due in addition to the small group assignment before the next class"
   ]
  },
  {
   "cell_type": "markdown",
   "metadata": {},
   "source": [
    "## FizzBuzz Problem"
   ]
  },
  {
   "cell_type": "markdown",
   "metadata": {},
   "source": [
    "Write a short program that prints each number from 1 to 100 except:\n",
    "\n",
    "- For each multiple of 3, print \"Fizz\" instead of the number\n",
    "\n",
    "- For each multiple of 5, print \"Buzz\" instead of the number\n",
    "\n",
    "- For numbers which are multiples of both 3 and 5, print \"FizzBuzz\" instead of the number"
   ]
  },
  {
   "cell_type": "markdown",
   "metadata": {},
   "source": [
    "### Q.1 Please outline in words the steps that should be executed for each iteration of the loop"
   ]
  },
  {
   "cell_type": "markdown",
   "metadata": {},
   "source": [
    "### A.1 YOUR ANSWER HERE"
   ]
  },
  {
   "cell_type": "markdown",
   "metadata": {},
   "source": [
    "First, it checks if the iteration variable(I used s) is divisible by 3 and 5 evenly, and if it is, it prints \"FizzBuzz\" and does the continue keyword. If the iteration variable isn't divisible by 3 AND 5, then it checks if it's divisible by just 5, and if it is, it prints \"buzz\" and does the continue keyword. Then, if the iteration variable isn't divisible by 5, it checks if s is only divisible by 3. If it is, then it prints \"Fizz\" and does the continue keyword. If none of the if/elif statements apply to the iteration variable, then the code just prints the iteration varianle."
   ]
  },
  {
   "cell_type": "markdown",
   "metadata": {},
   "source": [
    "### Q.2 Please implement the solution described in Q.1 with comments"
   ]
  },
  {
   "cell_type": "code",
   "execution_count": 14,
   "metadata": {},
   "outputs": [
    {
     "name": "stdout",
     "output_type": "stream",
     "text": [
      "1\n",
      "2\n",
      "fizz\n",
      "4\n",
      "buzz\n",
      "fizz\n",
      "7\n",
      "8\n",
      "fizz\n",
      "buzz\n",
      "11\n",
      "fizz\n",
      "13\n",
      "14\n",
      "fizzbuzz\n",
      "16\n",
      "17\n",
      "fizz\n",
      "19\n",
      "buzz\n",
      "fizz\n",
      "22\n",
      "23\n",
      "fizz\n",
      "buzz\n",
      "26\n",
      "fizz\n",
      "28\n",
      "29\n",
      "fizzbuzz\n",
      "31\n",
      "32\n",
      "fizz\n",
      "34\n",
      "buzz\n",
      "fizz\n",
      "37\n",
      "38\n",
      "fizz\n",
      "buzz\n",
      "41\n",
      "fizz\n",
      "43\n",
      "44\n",
      "fizzbuzz\n",
      "46\n",
      "47\n",
      "fizz\n",
      "49\n",
      "buzz\n",
      "fizz\n",
      "52\n",
      "53\n",
      "fizz\n",
      "buzz\n",
      "56\n",
      "fizz\n",
      "58\n",
      "59\n",
      "fizzbuzz\n",
      "61\n",
      "62\n",
      "fizz\n",
      "64\n",
      "buzz\n",
      "fizz\n",
      "67\n",
      "68\n",
      "fizz\n",
      "buzz\n",
      "71\n",
      "fizz\n",
      "73\n",
      "74\n",
      "fizzbuzz\n",
      "76\n",
      "77\n",
      "fizz\n",
      "79\n",
      "buzz\n",
      "fizz\n",
      "82\n",
      "83\n",
      "fizz\n",
      "buzz\n",
      "86\n",
      "fizz\n",
      "88\n",
      "89\n",
      "fizzbuzz\n",
      "91\n",
      "92\n",
      "fizz\n",
      "94\n",
      "buzz\n",
      "fizz\n",
      "97\n",
      "98\n",
      "fizz\n"
     ]
    }
   ],
   "source": [
    "# YOUR ANSWER HERE\n",
    "for s in range(1, 100):\n",
    "    #check if divisible by 3 and 5\n",
    "    if s % 3 == 0 and s%5==0:\n",
    "        print(\"fizzbuzz\")\n",
    "        continue\n",
    "    #check if only divisible by 5\n",
    "    elif s % 5 == 0:\n",
    "        print(\"buzz\")\n",
    "        continue\n",
    "    #check if only divisble by 3\n",
    "    elif s % 3 == 0:\n",
    "        print(\"fizz\")\n",
    "        continue\n",
    "    #print the iteration variable\n",
    "    print(s)"
   ]
  },
  {
   "cell_type": "markdown",
   "metadata": {},
   "source": [
    "## Understanding Code Flow"
   ]
  },
  {
   "cell_type": "code",
   "execution_count": 5,
   "metadata": {},
   "outputs": [
    {
     "name": "stdout",
     "output_type": "stream",
     "text": [
      "0\n",
      "1\n",
      "8\n",
      "27\n",
      "64\n",
      "125\n",
      "216\n",
      "343\n",
      "512\n",
      "729\n"
     ]
    }
   ],
   "source": [
    "\n",
    "\n",
    "\n",
    "\n",
    "# Block D\n",
    "for x in range(10):\n",
    "    print(x**3)"
   ]
  },
  {
   "cell_type": "markdown",
   "metadata": {},
   "source": [
    "### Q.3 Please complete the commented lines below with descriptions of the code as indicated. "
   ]
  },
  {
   "cell_type": "code",
   "execution_count": 15,
   "metadata": {},
   "outputs": [
    {
     "name": "stdout",
     "output_type": "stream",
     "text": [
      "2 is a prime number\n",
      "3 is a prime number\n",
      "4 = 2 * 2\n",
      "5 is a prime number\n",
      "6 = 2 * 3\n",
      "7 is a prime number\n",
      "8 = 2 * 4\n",
      "9 = 3 * 3\n",
      "10 = 2 * 5\n",
      "\n",
      "List of prime numbers in range: [2, 3, 5, 7]\n"
     ]
    }
   ],
   "source": [
    "# Create list to store prime numbers\n",
    "prime_numbers_list = []\n",
    "\n",
    "# This for loop iterates over a range of numbers starting at 2 and ending at 10.\n",
    "for n in range(2,11):\n",
    "    # Set is_prime as True\n",
    "    is_prime = True\n",
    "    # This for loop iterates over a range of numbers starting at 2 and ending at one before the iteration variable, n.\n",
    "    for k in range(2, n):\n",
    "        # This condition checks if n is evenly divisible by k.\n",
    "        if n % k == 0:\n",
    "            # If n % k == 0, then the code will print out a statement saying how k and the other factor multiply to n. Then is will say the is_prime is false, and stop that loop that it is in (not the whole code).\n",
    "            print(f\"{n} = {k} * {n // k}\")\n",
    "            is_prime = False\n",
    "            break\n",
    "    # This condition checks if is_prime is True\n",
    "    if is_prime:\n",
    "        # If n is prime, then print as output \n",
    "        # and append to list of prime numbers\n",
    "        print(f\"{n} is a prime number\")\n",
    "        prime_numbers_list.append(n)\n",
    "        \n",
    "print(f\"\\nList of prime numbers in range: {prime_numbers_list}\")"
   ]
  },
  {
   "cell_type": "markdown",
   "metadata": {},
   "source": [
    "### Q.4 In one sentence, what is the main objective of the code above?"
   ]
  },
  {
   "cell_type": "markdown",
   "metadata": {},
   "source": [
    "### A.4 YOUR ANSWER HERE"
   ]
  },
  {
   "cell_type": "markdown",
   "metadata": {},
   "source": [
    "To give the factors of numbers from 2 to 10, and say the number is a prime number if it is."
   ]
  }
 ],
 "metadata": {
  "kernelspec": {
   "display_name": "base",
   "language": "python",
   "name": "python3"
  },
  "language_info": {
   "codemirror_mode": {
    "name": "ipython",
    "version": 3
   },
   "file_extension": ".py",
   "mimetype": "text/x-python",
   "name": "python",
   "nbconvert_exporter": "python",
   "pygments_lexer": "ipython3",
   "version": "3.12.7"
  }
 },
 "nbformat": 4,
 "nbformat_minor": 2
}
