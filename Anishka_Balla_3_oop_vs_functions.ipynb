{
 "cells": [
  {
   "cell_type": "markdown",
   "metadata": {},
   "source": [
    "# Object Oriented Programming: OOP vs. Functions"
   ]
  },
  {
   "cell_type": "markdown",
   "metadata": {},
   "source": [
    "### Object Oriented Programming (OOP) \n",
    "\n",
    "Best used in applications with complex interactions between different objects. This paradigm focuses on modeling real-world entities as objects. Stored data and access to that data is bundled with the the behavior (methods) for that object.\n",
    "\n",
    "**When to use:** When modeling complex systems with clear entities and relationships."
   ]
  },
  {
   "cell_type": "markdown",
   "metadata": {},
   "source": [
    "### Functional Programming (FP) \n",
    "Best used in applications that are data intensive and require a lot of transformations of that data. With FP, functions are treated as *first-class citizens* meaning that they can be passed as arguments as well as returned from functions. The functions and the data are treated separately.\n",
    "\n",
    "An example would be a function that returns an acceleration and velocity function given the state of a system. This is useful in physics.\n",
    "\n",
    "**When to use:** When focusing on a single task like data manipulation, transformations, and avoiding side effects."
   ]
  },
  {
   "cell_type": "markdown",
   "metadata": {},
   "source": [
    "### Q.1 Hypothesize and describe 1-2 examples of use cases for OOP."
   ]
  },
  {
   "cell_type": "markdown",
   "metadata": {},
   "source": [
    "### A.1 YOUR ANSWER HERE"
   ]
  },
  {
   "cell_type": "markdown",
   "metadata": {},
   "source": [
    "One example of OOP use is development of video game charaters. For example, a class could represent a character, with methods representing what the character could do (like greet, bye, emotion, etc.).  Other items and enviroments could also be represented by objects with their own properties and behavior."
   ]
  },
  {
   "cell_type": "markdown",
   "metadata": {},
   "source": [
    "### Q.2 Hypothesize and describe 1-2 examples of use cases for FP."
   ]
  },
  {
   "cell_type": "markdown",
   "metadata": {},
   "source": [
    "### A.2 YOUR ANSWER HERE"
   ]
  },
  {
   "cell_type": "markdown",
   "metadata": {},
   "source": [
    "One example of FP would be programing functions for a calculator. Since calculators need to perform many different tasks to calculate what the user wants, functions are handy to save steps. For example, a function could be used to calculate a certain number after an exponent is applied, or using it to graph trends."
   ]
  },
  {
   "cell_type": "markdown",
   "metadata": {},
   "source": [
    "## One Problem, Two Implementations"
   ]
  },
  {
   "cell_type": "markdown",
   "metadata": {},
   "source": [
    "Python allows you to mix and match paradigms. The following two questions will explore how you can use the different paradigms to obtain the same results.\n",
    "\n",
    "Please test your soluttions using a rectangle with $l = 10$ and $w = 5$."
   ]
  },
  {
   "cell_type": "markdown",
   "metadata": {},
   "source": [
    "### Q.3 Using OOP, compute the area and perimeter of the rectangle described above."
   ]
  },
  {
   "cell_type": "code",
   "execution_count": 11,
   "metadata": {},
   "outputs": [
    {
     "name": "stdout",
     "output_type": "stream",
     "text": [
      "The area of the rectangle is 50\n",
      "The perimeter of the rectangle is 30\n"
     ]
    }
   ],
   "source": [
    "class Rectangle:\n",
    "    def __init__(self, length, width):\n",
    "        self.length = length\n",
    "        self.width = width\n",
    "\n",
    "    def calculate_area(self):\n",
    "        \"\"\"Calculate the area\"\"\"\n",
    "        areaOfRectangle = self.length*self.width\n",
    "        return f\"The area of the rectangle is {areaOfRectangle}\"\n",
    "\n",
    "        \n",
    "    def calculate_perimeter(self):\n",
    "        \"\"\"Calculate the perimeter\"\"\"\n",
    "        perimeterOfRectangle = (self.length*2)+(self.width*2)\n",
    "        return f\"The perimeter of the rectangle is {perimeterOfRectangle}\"\n",
    "       \n",
    "        \n",
    "\n",
    "rectangle1 = Rectangle(10,5)\n",
    "print(rectangle1.calculate_area())\n",
    "print(rectangle1.calculate_perimeter())\n"
   ]
  },
  {
   "cell_type": "markdown",
   "metadata": {},
   "source": [
    "### Q.4 Using FP, compute the area and perimeter of the rectangle described above."
   ]
  },
  {
   "cell_type": "code",
   "execution_count": 13,
   "metadata": {},
   "outputs": [
    {
     "name": "stdout",
     "output_type": "stream",
     "text": [
      "The area of the rectangle is 50\n",
      "The perimeter of the rectangle is 30\n"
     ]
    }
   ],
   "source": [
    "def calculate_area(length,width):\n",
    "    areaOfRectangle = length*width\n",
    "    return f\"The area of the rectangle is {areaOfRectangle}\"\n",
    "\n",
    "def calculate_perimeter(length,width):\n",
    "        \"\"\"Calculate the perimeter\"\"\"\n",
    "        perimeterOfRectangle = (length*2)+(width*2)\n",
    "        return f\"The perimeter of the rectangle is {perimeterOfRectangle}\"\n",
    "\n",
    "print(calculate_area(10,5))\n",
    "print(calculate_perimeter(10,5))"
   ]
  },
  {
   "cell_type": "markdown",
   "metadata": {},
   "source": [
    "### Initializing Attributes in `init`\n",
    "\n",
    "One of the main advantages of OOP is the ability to call methods and store their results as attributes for later. We can also leverage the fact that classes have access to all of their methods to make these variable assignments simpler. \n",
    "\n",
    "Let's explore how we can save the outputs from `calculate_area` and `calculate_perimeter` as attributes to access later."
   ]
  },
  {
   "cell_type": "markdown",
   "metadata": {},
   "source": [
    "### Q.5 Copy your solution from Q.3, then modify it such that `self.area` and `self.perimeter` are set inside the `init` method using the appropriate methods"
   ]
  },
  {
   "cell_type": "code",
   "execution_count": null,
   "metadata": {},
   "outputs": [
    {
     "name": "stdout",
     "output_type": "stream",
     "text": [
      "The area of the rectangle is 50\n",
      "The perimeter of the rectangle is 30\n"
     ]
    }
   ],
   "source": [
    "\n",
    "class Rectangle:\n",
    "    def __init__(self, length, width):\n",
    "        self.length = length\n",
    "        self.width = width\n",
    "        self.area = self.calculate_area()\n",
    "        self.perimeter = self.calculate_perimeter()\n",
    "\n",
    "    def calculate_area(self):\n",
    "        \"\"\"Calculate the area\"\"\"\n",
    "        areaOfRectangle = self.length*self.width\n",
    "        return f\"The area of the rectangle is {areaOfRectangle}\"\n",
    "\n",
    "        \n",
    "    def calculate_perimeter(self):\n",
    "        \"\"\"Calculate the perimeter\"\"\"\n",
    "        perimeterOfRectangle = (self.length*2)+(self.width*2)\n",
    "        return f\"The perimeter of the rectangle is {perimeterOfRectangle}\"\n",
    "       \n",
    "        \n",
    "\n",
    "rectangle1 = Rectangle(10,5)\n",
    "print(rectangle1.area)\n",
    "print(rectangle1.perimeter)\n"
   ]
  }
 ],
 "metadata": {
  "kernelspec": {
   "display_name": "base",
   "language": "python",
   "name": "python3"
  },
  "language_info": {
   "codemirror_mode": {
    "name": "ipython",
    "version": 3
   },
   "file_extension": ".py",
   "mimetype": "text/x-python",
   "name": "python",
   "nbconvert_exporter": "python",
   "pygments_lexer": "ipython3",
   "version": "3.12.7"
  }
 },
 "nbformat": 4,
 "nbformat_minor": 2
}
