{
 "cells": [
  {
   "cell_type": "markdown",
   "metadata": {},
   "source": [
    "# Object Oriented Programming: Writing Classes"
   ]
  },
  {
   "cell_type": "code",
   "execution_count": 1,
   "metadata": {},
   "outputs": [],
   "source": [
    "import random"
   ]
  },
  {
   "cell_type": "markdown",
   "metadata": {},
   "source": [
    "Let's define an example class called `Dog` which has multiple attributes and methods:"
   ]
  },
  {
   "cell_type": "code",
   "execution_count": 2,
   "metadata": {},
   "outputs": [],
   "source": [
    "class Dog:\n",
    "    \"\"\"Class representing a dog.\"\"\"\n",
    "\n",
    "    def __init__(self, name, age, breed):\n",
    "        \"\"\"Initialize name, age, and breed information.\"\"\"\n",
    "        self.name = name\n",
    "        self.age = age\n",
    "        self.breed = breed\n",
    "\n",
    "        # for demonstration purposes, you can print out 'self':\n",
    "        #print(self)\n",
    "\n",
    "    def introduce(self):\n",
    "        \"\"\"Introduce the dog.\"\"\"\n",
    "        print(f\"{self.name} is a {self.age} year old {self.breed}.\")\n",
    "\n",
    "    def bark(self):\n",
    "        \"\"\"Say Woof!\"\"\"\n",
    "        print(\"Woof!\")\n",
    "\n",
    "    def celebrate_birthday(self):\n",
    "        \"\"\"Celebrate the dog's birthday and update the age attribute.\"\"\"\n",
    "        self.age += 1\n",
    "        print(f\"It's {self.name}'s birthday! They are now {self.age} years old.\")\n",
    "\n",
    "    def check_mood(self):\n",
    "        \"\"\"Check the dog's mood.\"\"\"\n",
    "        mood = random.choice([\"happy\", \"grumpy\", \"sleepy\"])\n",
    "        print(f\"{self.name} is feeling {mood} right now.\")\n"
   ]
  },
  {
   "cell_type": "markdown",
   "metadata": {},
   "source": [
    "Notice that for each of the methods, we pass in something called `self`. This makes it clear that this is a method of a class, and not a standalone function. \n",
    "\n",
    "If you don't include the `self`, you may get an error that looks like this: \n",
    "\n",
    "`TypeError: your_instance.method() takes 0 positional arguments but 1 was given`. "
   ]
  },
  {
   "cell_type": "markdown",
   "metadata": {},
   "source": [
    "Also, note that `celebrate_birthday` changes the `age` attribute every time it is called. This is an extremely common practice in object oriented programming. In fact, it is general practice to only have the attributes of a class modified by its methods. This makes debugging simpler, as one only has to look in one class to see where errors appear."
   ]
  },
  {
   "cell_type": "code",
   "execution_count": 3,
   "metadata": {},
   "outputs": [
    {
     "name": "stdout",
     "output_type": "stream",
     "text": [
      "Rover is a 3 year old poodle.\n"
     ]
    }
   ],
   "source": [
    "rover = Dog(\"Rover\", 3, \"poodle\")\n",
    "rover.introduce()"
   ]
  },
  {
   "cell_type": "code",
   "execution_count": 4,
   "metadata": {},
   "outputs": [
    {
     "name": "stdout",
     "output_type": "stream",
     "text": [
      "It's Rover's birthday! They are now 4 years old.\n",
      "It's Rover's birthday! They are now 5 years old.\n",
      "It's Rover's birthday! They are now 6 years old.\n"
     ]
    }
   ],
   "source": [
    "rover.celebrate_birthday()\n",
    "rover.celebrate_birthday()\n",
    "rover.celebrate_birthday()"
   ]
  },
  {
   "cell_type": "code",
   "execution_count": 5,
   "metadata": {},
   "outputs": [
    {
     "name": "stdout",
     "output_type": "stream",
     "text": [
      "Rover is feeling happy right now.\n"
     ]
    }
   ],
   "source": [
    "rover.check_mood()"
   ]
  },
  {
   "cell_type": "markdown",
   "metadata": {},
   "source": [
    "## Please write a class similar to the example called `Cat`\n",
    "### Q.1 Write an initial solution similar to `Dog` (with the docstrings/methods changed as necessary):\n",
    "- **attributes**: `name`, `age`, `breed`\n",
    "- **methods**: `__init__()`, `introduce()`, `meow()`, `celebrate_birthday()`, `check_mood()`\n",
    "\n",
    "### Q.2 Make our `Cat` class a little more robust:\n",
    "- Add a method called `growl` that prints `\"Grrr...\"` when called\n",
    "- Add conditionals to the method `check_mood` that print out corresponding statements based on the cat's mood:\n",
    "    - happy $\\rightarrow$ calls `self.meow()`\n",
    "    - grumpy $\\rightarrow$ calls `self.growl()`\n",
    "    - sleepy $\\rightarrow$ `print(\"Zzzz...\")`\n",
    "\n",
    "### Q.3 Lastly, handle the case when the cat is less than a year old:\n",
    "- Add the attribute `is_kitten` that stores if the cat is a kitten (i.e. age < 1 year old). \n",
    "- Add a condition to `introduce()` such that:\n",
    "    \n",
    "    `self.is_kitten` is `True` $\\rightarrow$ `print(f\"{self.name} is a {self.breed} kitten.\")`\n",
    "\n",
    "- Add a condition to `celebrate_birthday()` such that:\n",
    "\n",
    "    `self.is_kitten` is `True` $\\rightarrow$ `print(f\"It's {self.name}'s birthday! They are now 1 year old.\")`\n",
    "\n",
    "- **Hint**: make sure to update `is_kitten` when appropriate!"
   ]
  },
  {
   "cell_type": "markdown",
   "metadata": {},
   "source": []
  },
  {
   "cell_type": "code",
   "execution_count": 22,
   "metadata": {},
   "outputs": [],
   "source": [
    "class Cat:\n",
    "    \"\"\"Class representing a Cat.\"\"\"\n",
    "    def __init__(self, name, age, breed):\n",
    "        \"\"\"Store/initialize the name, age, and breed information!\"\"\"\n",
    "        self.name = name\n",
    "        self.age = age\n",
    "        self.breed = breed\n",
    "        if self.age<1:\n",
    "            self.is_kitten = True\n",
    "        else:\n",
    "            self.is_kitten = False\n",
    "\n",
    "    \n",
    "    def introduce(self):\n",
    "        \"\"\"Introduce me!\"\"\"\n",
    "        if self.is_kitten == True:\n",
    "            print(f\"I am {self.name} and I am a {self.breed} kitten.\")\n",
    "        else:\n",
    "            print(f\"Meow! I am {self.name} and I am {self.age}. I am a {self.breed} cat.\")\n",
    "\n",
    "    def meow(self):\n",
    "        \"\"\"Say mew!\"\"\"\n",
    "        print(\"Mew!!\")\n",
    "\n",
    "    def celebrate_birthday(self):\n",
    "        \"\"\"Celebrate my birthday!\"\"\"\n",
    "        if self.is_kitten == True:\n",
    "            self.age+=1\n",
    "            print(f\"It's my birthday! I am now 1 year old!\")\n",
    "        else:\n",
    "            self.age += 1\n",
    "            print(f\"It's my birthday! I am now {self.age} years old.\")\n",
    "\n",
    "\n",
    "    def check_mood(self):\n",
    "        \"\"\"Checks my mood!\"\"\"\n",
    "        mood = random.choice([\"happy\", \"grumpy\", \"sleepy\"])\n",
    "        print(f\"I am feeling {mood} right now.\")\n",
    "        if mood==\"happy\":\n",
    "            self.meow()\n",
    "        \n",
    "        if mood==\"grumpy\":\n",
    "            self.growl()\n",
    "        \n",
    "        if mood==\"sleepy\":\n",
    "            print(\"Zzzz...\")\n",
    "        \n",
    "    \n",
    "    def growl(self):\n",
    "        \"\"\"Makes me growl\"\"\"\n",
    "        print(\"Grrr...\")\n"
   ]
  },
  {
   "cell_type": "markdown",
   "metadata": {},
   "source": [
    "Check your work by running the following code blocks:"
   ]
  },
  {
   "cell_type": "code",
   "execution_count": 26,
   "metadata": {},
   "outputs": [],
   "source": [
    "# Initialize two instances of Cat: Sesame and Miso\n",
    "sesame = Cat(\"Sesame\", 2, \"Siberian\")\n",
    "miso = Cat(\"Miso\", 0.5, \"Siberian\")"
   ]
  },
  {
   "cell_type": "code",
   "execution_count": 27,
   "metadata": {},
   "outputs": [
    {
     "name": "stdout",
     "output_type": "stream",
     "text": [
      "Meow! I am Sesame and I am 2. I am a Siberian cat.\n",
      "I am Miso and I am a Siberian kitten.\n"
     ]
    }
   ],
   "source": [
    "# Check that the introductions work as expected\n",
    "sesame.introduce()     # EXPECTED: Sesame is a 2 year old Siberian.\n",
    "miso.introduce()       # EXPECTED: Miso is a Siberian kitten."
   ]
  }
 ],
 "metadata": {
  "kernelspec": {
   "display_name": "base",
   "language": "python",
   "name": "python3"
  },
  "language_info": {
   "codemirror_mode": {
    "name": "ipython",
    "version": 3
   },
   "file_extension": ".py",
   "mimetype": "text/x-python",
   "name": "python",
   "nbconvert_exporter": "python",
   "pygments_lexer": "ipython3",
   "version": "3.12.7"
  }
 },
 "nbformat": 4,
 "nbformat_minor": 2
}
